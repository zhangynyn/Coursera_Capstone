{
 "cells": [
  {
   "cell_type": "markdown",
   "metadata": {},
   "source": [
    "# Business Problem \n"
   ]
  },
  {
   "cell_type": "markdown",
   "metadata": {},
   "source": [
    "**Ottawa** is the capital city of Canada, with a city population over a million(June 2019) and urban area of 520 km2. As a city with high quality of living, there are many people relocating to Ottawa in recent years. \n",
    "\n",
    "If a newcomer looking to open a restaurant, where would be a good place? This project will leverage the Foursquare location data to help the stakeholders to find an optimal place to open a **chinese restaurant**. "
   ]
  },
  {
   "cell_type": "markdown",
   "metadata": {},
   "source": [
    "# Data"
   ]
  },
  {
   "cell_type": "markdown",
   "metadata": {},
   "source": [
    "Data will be using in this project:\n",
    "- A list of **neighbourhoods** in city of Ottawa\n",
    " - https://en.wikipedia.org/wiki/List_of_neighbourhoods_in_Ottawa\n",
    "- Coordinates of the neighbourhoods will be generated using **geocoder** in python.\n",
    "- Restaurant's type and location in neighborhoods will be collected by using **Foursquare API**."
   ]
  }
 ],
 "metadata": {
  "kernelspec": {
   "display_name": "Python 3",
   "language": "python",
   "name": "python3"
  },
  "language_info": {
   "codemirror_mode": {
    "name": "ipython",
    "version": 3
   },
   "file_extension": ".py",
   "mimetype": "text/x-python",
   "name": "python",
   "nbconvert_exporter": "python",
   "pygments_lexer": "ipython3",
   "version": "3.7.3"
  }
 },
 "nbformat": 4,
 "nbformat_minor": 2
}
